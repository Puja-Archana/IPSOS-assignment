{
 "cells": [
  {
   "cell_type": "markdown",
   "id": "238c2c94",
   "metadata": {},
   "source": [
    "#### Import libraries"
   ]
  },
  {
   "cell_type": "code",
   "execution_count": 1,
   "id": "0474a10b",
   "metadata": {},
   "outputs": [],
   "source": [
    "import pandas as pd\n",
    "import numpy as np"
   ]
  },
  {
   "cell_type": "code",
   "execution_count": 2,
   "id": "15975c7d",
   "metadata": {},
   "outputs": [],
   "source": [
    "train_ds = pd.read_csv(\"train.csv\")\n",
    "test_ds = pd.read_csv(\"test.csv\")"
   ]
  },
  {
   "cell_type": "code",
   "execution_count": 3,
   "id": "b1b8619b",
   "metadata": {},
   "outputs": [
    {
     "data": {
      "text/html": [
       "<div>\n",
       "<style scoped>\n",
       "    .dataframe tbody tr th:only-of-type {\n",
       "        vertical-align: middle;\n",
       "    }\n",
       "\n",
       "    .dataframe tbody tr th {\n",
       "        vertical-align: top;\n",
       "    }\n",
       "\n",
       "    .dataframe thead th {\n",
       "        text-align: right;\n",
       "    }\n",
       "</style>\n",
       "<table border=\"1\" class=\"dataframe\">\n",
       "  <thead>\n",
       "    <tr style=\"text-align: right;\">\n",
       "      <th></th>\n",
       "      <th>V1</th>\n",
       "      <th>V2</th>\n",
       "      <th>V3</th>\n",
       "      <th>V4</th>\n",
       "      <th>V5</th>\n",
       "      <th>V6</th>\n",
       "      <th>V7</th>\n",
       "      <th>V8</th>\n",
       "      <th>V9</th>\n",
       "      <th>V10</th>\n",
       "      <th>OUTCOME</th>\n",
       "    </tr>\n",
       "  </thead>\n",
       "  <tbody>\n",
       "    <tr>\n",
       "      <th>0</th>\n",
       "      <td>3</td>\n",
       "      <td>6</td>\n",
       "      <td>9</td>\n",
       "      <td>9</td>\n",
       "      <td>2</td>\n",
       "      <td>1</td>\n",
       "      <td>8</td>\n",
       "      <td>7</td>\n",
       "      <td>2</td>\n",
       "      <td>10</td>\n",
       "      <td>5.548363</td>\n",
       "    </tr>\n",
       "    <tr>\n",
       "      <th>1</th>\n",
       "      <td>4</td>\n",
       "      <td>7</td>\n",
       "      <td>10</td>\n",
       "      <td>5</td>\n",
       "      <td>6</td>\n",
       "      <td>4</td>\n",
       "      <td>7</td>\n",
       "      <td>5</td>\n",
       "      <td>2</td>\n",
       "      <td>10</td>\n",
       "      <td>6.062914</td>\n",
       "    </tr>\n",
       "    <tr>\n",
       "      <th>2</th>\n",
       "      <td>6</td>\n",
       "      <td>4</td>\n",
       "      <td>9</td>\n",
       "      <td>2</td>\n",
       "      <td>1</td>\n",
       "      <td>3</td>\n",
       "      <td>7</td>\n",
       "      <td>7</td>\n",
       "      <td>8</td>\n",
       "      <td>3</td>\n",
       "      <td>4.832181</td>\n",
       "    </tr>\n",
       "    <tr>\n",
       "      <th>3</th>\n",
       "      <td>10</td>\n",
       "      <td>10</td>\n",
       "      <td>5</td>\n",
       "      <td>4</td>\n",
       "      <td>5</td>\n",
       "      <td>9</td>\n",
       "      <td>1</td>\n",
       "      <td>7</td>\n",
       "      <td>5</td>\n",
       "      <td>2</td>\n",
       "      <td>5.917978</td>\n",
       "    </tr>\n",
       "    <tr>\n",
       "      <th>4</th>\n",
       "      <td>3</td>\n",
       "      <td>2</td>\n",
       "      <td>2</td>\n",
       "      <td>9</td>\n",
       "      <td>10</td>\n",
       "      <td>4</td>\n",
       "      <td>10</td>\n",
       "      <td>3</td>\n",
       "      <td>8</td>\n",
       "      <td>1</td>\n",
       "      <td>5.311765</td>\n",
       "    </tr>\n",
       "  </tbody>\n",
       "</table>\n",
       "</div>"
      ],
      "text/plain": [
       "   V1  V2  V3  V4  V5  V6  V7  V8  V9  V10   OUTCOME\n",
       "0   3   6   9   9   2   1   8   7   2   10  5.548363\n",
       "1   4   7  10   5   6   4   7   5   2   10  6.062914\n",
       "2   6   4   9   2   1   3   7   7   8    3  4.832181\n",
       "3  10  10   5   4   5   9   1   7   5    2  5.917978\n",
       "4   3   2   2   9  10   4  10   3   8    1  5.311765"
      ]
     },
     "execution_count": 3,
     "metadata": {},
     "output_type": "execute_result"
    }
   ],
   "source": [
    "train_ds.head()"
   ]
  },
  {
   "cell_type": "code",
   "execution_count": 4,
   "id": "1522eb66",
   "metadata": {},
   "outputs": [
    {
     "data": {
      "text/html": [
       "<div>\n",
       "<style scoped>\n",
       "    .dataframe tbody tr th:only-of-type {\n",
       "        vertical-align: middle;\n",
       "    }\n",
       "\n",
       "    .dataframe tbody tr th {\n",
       "        vertical-align: top;\n",
       "    }\n",
       "\n",
       "    .dataframe thead th {\n",
       "        text-align: right;\n",
       "    }\n",
       "</style>\n",
       "<table border=\"1\" class=\"dataframe\">\n",
       "  <thead>\n",
       "    <tr style=\"text-align: right;\">\n",
       "      <th></th>\n",
       "      <th>V1</th>\n",
       "      <th>V2</th>\n",
       "      <th>V3</th>\n",
       "      <th>V4</th>\n",
       "      <th>V5</th>\n",
       "      <th>V6</th>\n",
       "      <th>V7</th>\n",
       "      <th>V8</th>\n",
       "      <th>V9</th>\n",
       "      <th>V10</th>\n",
       "      <th>OUTCOME</th>\n",
       "    </tr>\n",
       "  </thead>\n",
       "  <tbody>\n",
       "    <tr>\n",
       "      <th>0</th>\n",
       "      <td>9</td>\n",
       "      <td>9</td>\n",
       "      <td>3</td>\n",
       "      <td>3</td>\n",
       "      <td>2</td>\n",
       "      <td>6</td>\n",
       "      <td>3</td>\n",
       "      <td>10</td>\n",
       "      <td>9</td>\n",
       "      <td>1</td>\n",
       "      <td>5.498661</td>\n",
       "    </tr>\n",
       "    <tr>\n",
       "      <th>1</th>\n",
       "      <td>8</td>\n",
       "      <td>1</td>\n",
       "      <td>2</td>\n",
       "      <td>9</td>\n",
       "      <td>9</td>\n",
       "      <td>4</td>\n",
       "      <td>7</td>\n",
       "      <td>6</td>\n",
       "      <td>3</td>\n",
       "      <td>3</td>\n",
       "      <td>5.289798</td>\n",
       "    </tr>\n",
       "    <tr>\n",
       "      <th>2</th>\n",
       "      <td>3</td>\n",
       "      <td>5</td>\n",
       "      <td>6</td>\n",
       "      <td>5</td>\n",
       "      <td>10</td>\n",
       "      <td>6</td>\n",
       "      <td>4</td>\n",
       "      <td>7</td>\n",
       "      <td>1</td>\n",
       "      <td>7</td>\n",
       "      <td>5.314285</td>\n",
       "    </tr>\n",
       "    <tr>\n",
       "      <th>3</th>\n",
       "      <td>2</td>\n",
       "      <td>9</td>\n",
       "      <td>5</td>\n",
       "      <td>3</td>\n",
       "      <td>3</td>\n",
       "      <td>3</td>\n",
       "      <td>9</td>\n",
       "      <td>9</td>\n",
       "      <td>8</td>\n",
       "      <td>3</td>\n",
       "      <td>5.076739</td>\n",
       "    </tr>\n",
       "    <tr>\n",
       "      <th>4</th>\n",
       "      <td>3</td>\n",
       "      <td>8</td>\n",
       "      <td>6</td>\n",
       "      <td>1</td>\n",
       "      <td>4</td>\n",
       "      <td>1</td>\n",
       "      <td>1</td>\n",
       "      <td>4</td>\n",
       "      <td>5</td>\n",
       "      <td>10</td>\n",
       "      <td>4.285061</td>\n",
       "    </tr>\n",
       "  </tbody>\n",
       "</table>\n",
       "</div>"
      ],
      "text/plain": [
       "   V1  V2  V3  V4  V5  V6  V7  V8  V9  V10   OUTCOME\n",
       "0   9   9   3   3   2   6   3  10   9    1  5.498661\n",
       "1   8   1   2   9   9   4   7   6   3    3  5.289798\n",
       "2   3   5   6   5  10   6   4   7   1    7  5.314285\n",
       "3   2   9   5   3   3   3   9   9   8    3  5.076739\n",
       "4   3   8   6   1   4   1   1   4   5   10  4.285061"
      ]
     },
     "execution_count": 4,
     "metadata": {},
     "output_type": "execute_result"
    }
   ],
   "source": [
    "test_ds.head()"
   ]
  },
  {
   "cell_type": "code",
   "execution_count": 5,
   "id": "6a471f37",
   "metadata": {},
   "outputs": [
    {
     "name": "stdout",
     "output_type": "stream",
     "text": [
      "[[ 3  6  9 ...  7  2 10]\n",
      " [ 4  7 10 ...  5  2 10]\n",
      " [ 6  4  9 ...  7  8  3]\n",
      " ...\n",
      " [ 1  1 10 ...  9 10  3]\n",
      " [ 1  7  4 ...  6  9  4]\n",
      " [ 2  5 10 ...  5  2  2]]\n"
     ]
    }
   ],
   "source": [
    "train_data = train_ds.drop(\"OUTCOME\", axis=1).values\n",
    "print(train_data)"
   ]
  },
  {
   "cell_type": "code",
   "execution_count": 6,
   "id": "277c9eb1",
   "metadata": {},
   "outputs": [
    {
     "name": "stdout",
     "output_type": "stream",
     "text": [
      "[[ 9  9  3  3  2  6  3 10  9  1]\n",
      " [ 8  1  2  9  9  4  7  6  3  3]\n",
      " [ 3  5  6  5 10  6  4  7  1  7]\n",
      " [ 2  9  5  3  3  3  9  9  8  3]\n",
      " [ 3  8  6  1  4  1  1  4  5 10]\n",
      " [ 1  4  1  9  6  2  9  9  3  8]\n",
      " [ 1  6  6  5 10  9  3  4  4  1]\n",
      " [ 2  9  7  6  8  3  5  1  5  4]\n",
      " [ 1  5  6  1  8  5  7  5  7  2]\n",
      " [ 1  4  7  3  7  9  8  3  2  5]\n",
      " [ 6  6  3  5  2  7 10  5  9  5]\n",
      " [ 8  5  3  3  5  5  6 10  6  2]\n",
      " [ 7  9  7 10  3  7  1  6  3  1]\n",
      " [ 1  2  2  7  2  3  4  4  3  3]\n",
      " [ 1  7 10  8  1  7  6  8  8  3]\n",
      " [ 5  1 10  3  7 10  1  5  4  8]\n",
      " [ 2  4  8 10  6  4  3  7  2  4]\n",
      " [ 8 10  5  9  2  6  3  5  5  9]\n",
      " [ 8  1 10 10  1 10  5  8  3  2]\n",
      " [ 9  1  7  4  3  6  6  5  5  6]\n",
      " [ 4  3  4  4  9  6  8  4 10  5]\n",
      " [10 10  2  3  9  9  9  7  4  3]\n",
      " [10  5  8  7  7  5  2  5  4  8]\n",
      " [ 1  7 10  4  8  2  1  1  8  4]\n",
      " [ 9  1  7  1  8 10  2  9  1  6]\n",
      " [ 9  3  9  6  6  7  2  8  9 10]\n",
      " [ 8 10  3  9  5  4  5  2  5  4]\n",
      " [ 3  8  6  6  8  7  9  3  7  4]\n",
      " [ 6  1  3  3 10  1  1  9  7  4]\n",
      " [ 5  9  6  2  5  7  8  3  9  2]\n",
      " [ 7  2 10  9  6  1  1 10  1  1]\n",
      " [10  5  9 10  3  9  7  3  9  3]\n",
      " [ 3 10  3  1  2  5  4  4 10  4]\n",
      " [ 3  6  5  1  9  1  3  8  1  2]\n",
      " [ 8  1  9  9  5  3  4  9  6  6]\n",
      " [ 8 10  5  4  1  8  9  6  9  4]\n",
      " [10  8  4  4  9  5  1  9  4  7]\n",
      " [ 5  1  1  9  1  4  2  6  5 10]\n",
      " [ 9  4  2 10  1  6  2  6  2  3]\n",
      " [ 4  5  7  5  5  2  5  8  7  3]\n",
      " [ 3  7  1  5  5 10  6  3  2  9]\n",
      " [10  8 10  2  3  5  8  7  3  7]\n",
      " [ 1  9  2  3  3  8  1  1  9  9]\n",
      " [ 5  1  7  4  7  4  2  3  9  3]\n",
      " [ 5  2  1  7  1  5 10  7  4  6]\n",
      " [ 5  1  1  2  3  6  7  7  6  3]\n",
      " [ 7  3  2  5 10  9  1  6 10  2]\n",
      " [ 8 10  9  9 10  7  2  5  5  2]\n",
      " [10  1  9  3  6  4  2  2  2  2]\n",
      " [ 9  3  8  8  2  9  6  6  1  2]\n",
      " [ 1  2  3  2  7  7  6  1  5  7]\n",
      " [ 2  2  7  4  5  5  2  1  6  6]\n",
      " [ 7  7 10 10  6  9  2  2  1  7]\n",
      " [ 9  5  6  2 10  5  9  6  8  9]\n",
      " [ 6  7  5  2  1  5  5  9  4  7]\n",
      " [ 3  3  8  2  4  1  3  6 10  6]\n",
      " [ 9 10  2  8  6  1  3  2 10  9]\n",
      " [ 2  3  4 10  1  9 10  6 10  3]\n",
      " [ 5  6  4  5 10  4  8  5  5  5]\n",
      " [ 1  1  1  8 10  3  3  4  9 10]\n",
      " [ 4  7  3  2 10 10  7  8  9  2]\n",
      " [ 5  2  8  1  6  4  4  9  6  2]\n",
      " [ 2  6  4  1  4  5  8  1  9  9]\n",
      " [ 7  9  7  6  5  3 10 10  2  6]\n",
      " [ 4  4  6  1 10  9  7  7  7  2]\n",
      " [ 3  7  9  9  2  3 10  3  6  6]\n",
      " [ 4  8  6  1 10  7 10  6  4  6]\n",
      " [ 9  3  2  2  4  9  4  1  2  9]\n",
      " [10  7  8  1  8  6  5  1  7  8]\n",
      " [ 8 10  1  5  9 10  9  8  5  6]\n",
      " [10  6  8  8 10  1  6  3  9  5]\n",
      " [ 6 10  1  1  4  9  3  4  7  2]\n",
      " [ 5  3  8  5  9  8  1  4  4  7]\n",
      " [10  3  8  5  9 10  5  7  9  2]\n",
      " [ 2  5  6 10  8  3  4  3  6  5]\n",
      " [ 1  5  9  3  4  6  6  6  7  2]\n",
      " [ 1  8  3  8  1  4  9  3  1  2]\n",
      " [ 7  1  3  9  9  6 10  5  8  5]\n",
      " [ 7  8  7 10  8  3  6  5  6  3]\n",
      " [ 9  9  5  1  4  7 10  7  5  7]\n",
      " [ 2  4  7  7  6 10 10  8  6  3]\n",
      " [ 2  8  1  3 10  8 10  1  7 10]\n",
      " [10  3  4  9  3  2 10  5 10  8]\n",
      " [ 4  4  9  9  3  4  9  8  1  9]\n",
      " [ 2  7  4  7  5  1  3  3  5  9]\n",
      " [ 5  5  1  5  8  5  2  2  1  1]\n",
      " [ 6  9  9  4  2  8  1  8  9  1]\n",
      " [ 4  6  6  3  8  5  2  2  1  3]\n",
      " [10  6 10  9  9  8  9  9  7  1]\n",
      " [ 6  9  8  6  8  1  4  8  3 10]\n",
      " [ 2  4  6  5  5  5 10  5 10  6]\n",
      " [ 5  2  5  4  8  8 10  4  7 10]\n",
      " [ 7  2  4  9  1  5  9  9  7  9]\n",
      " [ 3  9  6  4  1  9  3  5  9  9]\n",
      " [ 2  4 10  3  6 10  5  5  2  3]\n",
      " [ 8  8  3  6  5  2 10  6  9  8]\n",
      " [ 7  1  2  9  1  1  6  4  4  5]\n",
      " [ 3  3  3  2  5  2  5 10  8  6]\n",
      " [ 2  3  2  4  1  2  7  2  3  6]\n",
      " [ 3  4  6  7  3  3  4  8  5  7]]\n"
     ]
    }
   ],
   "source": [
    "test_data = test_ds.drop(\"OUTCOME\", axis=1).values\n",
    "print(test_data)"
   ]
  },
  {
   "cell_type": "code",
   "execution_count": 7,
   "id": "d5f7b721",
   "metadata": {},
   "outputs": [
    {
     "data": {
      "text/plain": [
       "(900, 11)"
      ]
     },
     "execution_count": 7,
     "metadata": {},
     "output_type": "execute_result"
    }
   ],
   "source": [
    "train_ds.shape"
   ]
  },
  {
   "cell_type": "code",
   "execution_count": 8,
   "id": "d1aea928",
   "metadata": {},
   "outputs": [
    {
     "data": {
      "text/plain": [
       "(100, 11)"
      ]
     },
     "execution_count": 8,
     "metadata": {},
     "output_type": "execute_result"
    }
   ],
   "source": [
    "test_ds.shape"
   ]
  },
  {
   "cell_type": "code",
   "execution_count": 9,
   "id": "4ec30fc4",
   "metadata": {},
   "outputs": [],
   "source": [
    "from sklearn.neighbors import KNeighborsRegressor\n",
    "\n",
    "def predict(train, test, k=5, metric=\"euclidean\", outcome=\"OUTCOME\"):\n",
    "   \n",
    "    # Function to calculate distance\n",
    "    def distance(x, y):\n",
    "        if metric == \"euclidean\":\n",
    "            return np.sqrt(((x - y) ** 2).sum())\n",
    "        elif metric == \"manhattan\":\n",
    "            return np.abs(x - y).sum()\n",
    "      \n",
    "\n",
    "    # Function to find k nearest neighbor\n",
    "    \n",
    "    # Initialize the KNeighborsRegressor with k and the specified metric\n",
    "    knn = KNeighborsRegressor(n_neighbors=k, metric=metric)\n",
    "\n",
    "    # Fit the KNeighborsRegressor on the training data\n",
    "    knn.fit(train_data, train[outcome])\n",
    "\n",
    "    # Predict the outcome for test data\n",
    "    predictions = knn.predict(test_data)\n",
    "\n",
    "    return predictions\n",
    "\n"
   ]
  },
  {
   "cell_type": "code",
   "execution_count": 10,
   "id": "09ecc2fc",
   "metadata": {},
   "outputs": [
    {
     "name": "stdout",
     "output_type": "stream",
     "text": [
      "[5.95708742 5.48711889 5.83336967 5.26498737 4.83427261 5.07946697\n",
      " 4.83832583 5.32063987 4.91940552 5.03729078 5.4523583  5.66689433\n",
      " 5.5551017  3.46033861 5.68027577 5.53431886 4.71541007 5.72545251\n",
      " 5.75817444 5.09269412 5.75321412 6.30085196 6.09351574 5.29001277\n",
      " 5.31766601 6.67135636 5.7113609  5.83058767 4.69182012 5.82046444\n",
      " 4.78644716 6.47826707 4.41666446 4.85776514 5.75234796 6.09946736\n",
      " 5.68115193 5.12644609 4.73291228 5.63304818 5.0822997  5.78865311\n",
      " 5.31148822 5.09156613 4.86505222 4.26147057 5.27020875 6.5931899\n",
      " 4.65601551 5.0605146  4.54836247 4.70608756 5.81895687 6.28484934\n",
      " 5.00283613 5.06127211 5.5319492  6.02816448 5.52443466 5.36907615\n",
      " 6.27038284 5.01133356 4.89587848 6.74675994 5.64405009 5.84136191\n",
      " 6.0089698  4.92898051 5.9236389  7.46082046 6.23366056 5.18168657\n",
      " 5.53203812 6.65699372 4.9763408  4.81228655 5.03112666 5.67589629\n",
      " 6.08356808 6.22433893 5.84976123 6.02810086 5.91127713 5.60496179\n",
      " 4.91867512 3.69022477 5.90836751 3.53432747 7.05308654 6.00029563\n",
      " 5.43641783 5.60534058 5.98354708 5.5082232  4.98936058 6.26292383\n",
      " 4.46321594 4.71013534 3.28885561 4.80652241]\n"
     ]
    }
   ],
   "source": [
    "print(predict(train_ds, test_ds, k=5, metric = \"euclidean\", outcome = \"OUTCOME\"))"
   ]
  },
  {
   "cell_type": "code",
   "execution_count": 12,
   "id": "ee9efd3a",
   "metadata": {},
   "outputs": [
    {
     "name": "stdout",
     "output_type": "stream",
     "text": [
      "0.3753732795418724\n"
     ]
    }
   ],
   "source": [
    "# Test the result\n",
    "\n",
    "import math\n",
    "print(math.sqrt(((test_ds[\"OUTCOME\"] - predict(train_ds,test_ds, k=5)) ** 2).mean())) # Answer should be = 0.3638982"
   ]
  },
  {
   "cell_type": "code",
   "execution_count": null,
   "id": "854934a0",
   "metadata": {},
   "outputs": [],
   "source": []
  }
 ],
 "metadata": {
  "kernelspec": {
   "display_name": "Python 3",
   "language": "python",
   "name": "python3"
  },
  "language_info": {
   "codemirror_mode": {
    "name": "ipython",
    "version": 3
   },
   "file_extension": ".py",
   "mimetype": "text/x-python",
   "name": "python",
   "nbconvert_exporter": "python",
   "pygments_lexer": "ipython3",
   "version": "3.9.1"
  }
 },
 "nbformat": 4,
 "nbformat_minor": 5
}
